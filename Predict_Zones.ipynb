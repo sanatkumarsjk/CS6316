{
 "cells": [
  {
   "cell_type": "code",
   "execution_count": 1,
   "metadata": {},
   "outputs": [],
   "source": [
    "import pandas as pd\n",
    "from random import shuffle\n",
    "from sklearn.model_selection import GridSearchCV\n",
    "from sklearn.ensemble import RandomForestClassifier\n",
    "from sklearn.tree import DecisionTreeClassifier\n",
    "from sklearn.linear_model import LogisticRegression\n",
    "from sklearn.ensemble import AdaBoostClassifier\n",
    "from sklearn.svm import LinearSVC\n",
    "from sklearn.svm import SVC\n",
    "from sklearn.model_selection import train_test_split\n",
    "from sklearn.model_selection import cross_val_score\n",
    "from sklearn.metrics import accuracy_score"
   ]
  },
  {
   "cell_type": "code",
   "execution_count": 2,
   "metadata": {},
   "outputs": [],
   "source": [
    "# Filename to read data from\n",
    "DATA_FILENAME = \"Clean_Data.csv\"\n",
    "\n",
    "# Whether or not to merge zones into four bigger zones\n",
    "merge_zones = False\n",
    "\n",
    "# Whether or not to include a bias term in X\n",
    "include_bias = False\n",
    "\n",
    "# Whether to use the entire dataset or a random subset of it\n",
    "use_entire_dataset = True\n",
    "ratio_to_use = 0.5\n",
    "\n",
    "# Whether to train or test\n",
    "train = True\n",
    "\n",
    "# If training, whether to use grid search or k-fold cross-validation\n",
    "use_gridsearch = True\n",
    "params = {'splitter': ('best', 'random'), 'max_depth': (None, 2, 3)}\n",
    "\n",
    "# If using cross-validation, number of folds\n",
    "k = 3\n",
    "\n",
    "# Initialize classifier below\n",
    "#clf = LogisticRegression(random_state=42)\n",
    "clf = DecisionTreeClassifier(random_state = 42)\n",
    "#clf = RandomForestClassifier(n_estimators=100, random_state=42)\n",
    "#clf = LinearSVC(random_state=42)\n",
    "#clf = AdaBoostClassifier(dt)"
   ]
  },
  {
   "cell_type": "code",
   "execution_count": 4,
   "metadata": {},
   "outputs": [],
   "source": [
    "data = pd.read_csv(DATA_FILENAME)\n",
    "\n",
    "if not use_entire_dataset:\n",
    "    indices = data.index.values\n",
    "    shuffle(indices)\n",
    "    data = data.loc[indices[:int(len(indices) * ratio_to_use)]]\n",
    "\n",
    "if merge_zones:\n",
    "    # Divide zones into four regions\n",
    "    for index, row in data.iterrows():\n",
    "        data.at[index, \"Zone\"] = int(str(data.at[index, \"Zone\"])[0])\n",
    "\n",
    "X = data[[\"Call_Month\", \"Call_Date\", \"Call_Time\"]]\n",
    "y = data[\"Zone\"].astype(int)\n",
    "\n",
    "if include_bias:\n",
    "    X[\"bias\"] = 1\n",
    "    \n",
    "\n",
    "X_train, X_test, y_train, y_test = train_test_split(X, y, test_size=0.2, random_state=42)"
   ]
  },
  {
   "cell_type": "code",
   "execution_count": 5,
   "metadata": {},
   "outputs": [
    {
     "name": "stderr",
     "output_type": "stream",
     "text": [
      "C:\\Users\\Trey\\Anaconda3\\lib\\site-packages\\sklearn\\model_selection\\_split.py:605: Warning: The least populated class in y has only 1 members, which is too few. The minimum number of members in any class cannot be less than n_splits=3.\n",
      "  % (min_groups, self.n_splits)), Warning)\n"
     ]
    },
    {
     "name": "stdout",
     "output_type": "stream",
     "text": [
      "Highest Accuracy: 0.07784507914733747\n",
      "Best Model: DecisionTreeClassifier(class_weight=None, criterion='gini', max_depth=3,\n",
      "            max_features=None, max_leaf_nodes=None,\n",
      "            min_impurity_decrease=0.0, min_impurity_split=None,\n",
      "            min_samples_leaf=1, min_samples_split=2,\n",
      "            min_weight_fraction_leaf=0.0, presort=False, random_state=42,\n",
      "            splitter='best')\n"
     ]
    }
   ],
   "source": [
    "# Train algorithm and print results\n",
    "if train:\n",
    "    if use_gridsearch:\n",
    "        grid = GridSearchCV(clf, params, scoring=\"accuracy\")\n",
    "        grid.fit(X_train, y_train)\n",
    "        print(\"Highest Accuracy:\", grid.best_score_)\n",
    "        print(\"Best Model:\", grid.best_estimator_)\n",
    "    else:\n",
    "        print(cross_val_score(clf, X_train, y_train, cv=k, scoring=\"accuracy\"))\n",
    "else:\n",
    "    clf.fit(X_train, y_train)\n",
    "    y_pred = clf.predict(X_test)\n",
    "    print(accuracy_score(y_test, y_pred))"
   ]
  },
  {
   "cell_type": "code",
   "execution_count": null,
   "metadata": {},
   "outputs": [],
   "source": []
  }
 ],
 "metadata": {
  "kernelspec": {
   "display_name": "Python 3",
   "language": "python",
   "name": "python3"
  },
  "language_info": {
   "codemirror_mode": {
    "name": "ipython",
    "version": 3
   },
   "file_extension": ".py",
   "mimetype": "text/x-python",
   "name": "python",
   "nbconvert_exporter": "python",
   "pygments_lexer": "ipython3",
   "version": "3.6.5"
  }
 },
 "nbformat": 4,
 "nbformat_minor": 2
}

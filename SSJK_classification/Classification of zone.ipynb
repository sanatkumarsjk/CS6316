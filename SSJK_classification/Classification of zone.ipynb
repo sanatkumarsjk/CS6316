{
 "cells": [
  {
   "cell_type": "code",
   "execution_count": 227,
   "metadata": {},
   "outputs": [],
   "source": [
    "import pandas as pd\n",
    "\n",
    "def load_data():\n",
    "    return pd.read_csv(r\"Data.csv\")\n",
    "\n",
    "data = load_data()"
   ]
  },
  {
   "cell_type": "code",
   "execution_count": 228,
   "metadata": {
    "scrolled": true
   },
   "outputs": [],
   "source": [
    "rows_to_drop = []\n",
    "dropped_because_year = 0\n",
    "dropped_because_noreport = 0\n",
    "for index, row in data.iterrows():\n",
    "    if (pd.isna(row[\"Zone\"]) or row[\"Zone\"]=='UNK' or row[\"Zone\"]==910 or row[\"Zone\"]==911 or row[\"Zone\"]==912 or row[\"Zone\"]== 920 or row[\"Zone\"]== 922 or row[\"Zone\"]== 938 or row[\"Zone\"]==939):\n",
    "        rows_to_drop.append(index)\n",
    "        dropped_because_noreport += 1\n",
    "\n",
    "data = data.drop(rows_to_drop, axis = 0)\n"
   ]
  },
  {
   "cell_type": "code",
   "execution_count": 229,
   "metadata": {},
   "outputs": [
    {
     "name": "stdout",
     "output_type": "stream",
     "text": [
      "<class 'pandas.core.frame.DataFrame'>\n",
      "Int64Index: 561679 entries, 0 to 602933\n",
      "Data columns (total 69 columns):\n",
      "Zone             561679 non-null float64\n",
      "Holiday          561679 non-null int64\n",
      "Call_Date_01     561679 non-null float64\n",
      "Call_Date_02     561679 non-null float64\n",
      "Call_Date_03     561679 non-null float64\n",
      "Call_Date_04     561679 non-null float64\n",
      "Call_Date_05     561679 non-null float64\n",
      "Call_Date_06     561679 non-null float64\n",
      "Call_Date_07     561679 non-null float64\n",
      "Call_Date_08     561679 non-null float64\n",
      "Call_Date_09     561679 non-null float64\n",
      "Call_Date_10     561679 non-null float64\n",
      "Call_Date_11     561679 non-null float64\n",
      "Call_Date_12     561679 non-null float64\n",
      "Call_Date_13     561679 non-null float64\n",
      "Call_Date_14     561679 non-null float64\n",
      "Call_Date_15     561679 non-null float64\n",
      "Call_Date_16     561679 non-null float64\n",
      "Call_Date_17     561679 non-null float64\n",
      "Call_Date_18     561679 non-null float64\n",
      "Call_Date_19     561679 non-null float64\n",
      "Call_Date_20     561679 non-null float64\n",
      "Call_Date_21     561679 non-null float64\n",
      "Call_Date_22     561679 non-null float64\n",
      "Call_Date_23     561679 non-null float64\n",
      "Call_Date_24     561679 non-null float64\n",
      "Call_Date_25     561679 non-null float64\n",
      "Call_Date_26     561679 non-null float64\n",
      "Call_Date_27     561679 non-null float64\n",
      "Call_Date_28     561679 non-null float64\n",
      "Call_Date_29     561679 non-null float64\n",
      "Call_Date_30     561679 non-null float64\n",
      "Call_Date_31     561679 non-null float64\n",
      "Call_Month_01    561679 non-null float64\n",
      "Call_Month_02    561679 non-null float64\n",
      "Call_Month_03    561679 non-null float64\n",
      "Call_Month_04    561679 non-null float64\n",
      "Call_Month_05    561679 non-null float64\n",
      "Call_Month_06    561679 non-null float64\n",
      "Call_Month_07    561679 non-null float64\n",
      "Call_Month_08    561679 non-null float64\n",
      "Call_Month_09    561679 non-null float64\n",
      "Call_Month_10    561679 non-null float64\n",
      "Call_Month_11    561679 non-null float64\n",
      "Call_Month_12    561679 non-null float64\n",
      "Call_Time_01     561679 non-null float64\n",
      "Call_Time_02     561679 non-null float64\n",
      "Call_Time_03     561679 non-null float64\n",
      "Call_Time_04     561679 non-null float64\n",
      "Call_Time_05     561679 non-null float64\n",
      "Call_Time_06     561679 non-null float64\n",
      "Call_Time_07     561679 non-null float64\n",
      "Call_Time_08     561679 non-null float64\n",
      "Call_Time_09     561679 non-null float64\n",
      "Call_Time_10     561679 non-null float64\n",
      "Call_Time_11     561679 non-null float64\n",
      "Call_Time_12     561679 non-null float64\n",
      "Call_Time_13     561679 non-null float64\n",
      "Call_Time_14     561679 non-null float64\n",
      "Call_Time_15     561679 non-null float64\n",
      "Call_Time_16     561679 non-null float64\n",
      "Call_Time_17     561679 non-null float64\n",
      "Call_Time_18     561679 non-null float64\n",
      "Call_Time_19     561679 non-null float64\n",
      "Call_Time_20     561679 non-null float64\n",
      "Call_Time_21     561679 non-null float64\n",
      "Call_Time_22     561679 non-null float64\n",
      "Call_Time_23     561679 non-null float64\n",
      "Call_Time_24     561679 non-null float64\n",
      "dtypes: float64(68), int64(1)\n",
      "memory usage: 300.0 MB\n",
      "None\n"
     ]
    }
   ],
   "source": [
    "print(data.info())"
   ]
  },
  {
   "cell_type": "code",
   "execution_count": 230,
   "metadata": {},
   "outputs": [
    {
     "name": "stderr",
     "output_type": "stream",
     "text": [
      "c:\\users\\ssjk\\appdata\\local\\programs\\python\\python35\\lib\\site-packages\\sklearn\\linear_model\\logistic.py:758: ConvergenceWarning: lbfgs failed to converge. Increase the number of iterations.\n",
      "  \"of iterations.\", ConvergenceWarning)\n"
     ]
    },
    {
     "name": "stdout",
     "output_type": "stream",
     "text": [
      "Accuracy of LR is  0.09407491810283436\n",
      "Code ends here!!\n"
     ]
    }
   ],
   "source": [
    "import pandas as pd\n",
    "import numpy as np\n",
    "from sklearn.model_selection import train_test_split\n",
    "from sklearn.model_selection import StratifiedShuffleSplit\n",
    "from sklearn.tree import DecisionTreeClassifier\n",
    "from sklearn.linear_model import LogisticRegression\n",
    "from sklearn.svm import SVC\n",
    "from sklearn.ensemble import RandomForestClassifier\n",
    "from sklearn.ensemble import AdaBoostClassifier\n",
    "from sklearn.metrics import accuracy_score, precision_score, recall_score\n",
    "\n",
    "label = 'Zone'\n",
    "\n",
    "train_set, test_set = train_test_split(data, test_size=0.2, random_state=4)\n",
    "\n",
    "X_train = np.array(train_set.drop(label, axis=1))\n",
    "y_train = np.array(train_set[label].copy())\n",
    "X_test = np.array(test_set.drop(label, axis=1))\n",
    "y_test = np.array(test_set[label].copy())\n",
    "\n",
    "y_train = pd.to_numeric(y_train)        \n",
    "y_test = y_test.astype('int')\n",
    "\n",
    "# tree_clf = DecisionTreeClassifier()\n",
    "# tree_clf.fit(X_train, y_train)\n",
    "# y_pred = tree_clf.predict(X_test)\n",
    "# print(\"Accuracy of DT is \", accuracy_score(y_test, y_pred))\n",
    "\n",
    "tree_clf = LogisticRegression( C =10, solver='lbfgs', multi_class='multinomial')\n",
    "tree_clf.fit(X_train, y_train)\n",
    "y_pred = tree_clf.predict(X_test)\n",
    "print(\"Accuracy of LR is \", accuracy_score(y_test, y_pred))\n",
    "\n",
    "# tree_clf = SVC(gamma='auto')\n",
    "# tree_clf.fit(X_train, y_train)\n",
    "# y_pred = tree_clf.predict(X_test)\n",
    "# print(\"Accuracy of SVC is \", accuracy_score(y_test, y_pred))\n",
    "\n",
    "# tree_clf = RandomForestClassifier(n_estimators=100, random_state=0)\n",
    "# tree_clf.fit(X_train, y_train)\n",
    "# y_pred = tree_clf.predict(X_test)\n",
    "# print(\"Accuracy of RF is \", accuracy_score(y_test, y_pred))\n",
    "\n",
    "# tree_clf =  AdaBoostClassifier(base_estimator= LogisticRegression( solver='lbfgs', multi_class='multinomial'), n_estimators=100)\n",
    "# tree_clf.fit(X_train, y_train)\n",
    "# y_pred = tree_clf.predict(X_test)\n",
    "# print(\"Accuracy of LRAdaboost is \", accuracy_score(y_test, y_pred))\n",
    "\n",
    "print(\"Code ends here!!\")"
   ]
  },
  {
   "cell_type": "code",
   "execution_count": 231,
   "metadata": {},
   "outputs": [],
   "source": [
    "def custom_accuracy(y_test, n, probability, classes):\n",
    "    probability = np.array(probability)\n",
    "    correct_prediction = 0\n",
    "    \n",
    "    for i in range(0,len(y_pred)):\n",
    "        sort_order = probability[i].argsort()\n",
    "        classes_tmp = classes[sort_order]\n",
    "        if(y_test[i] in classes_tmp[len(classes_tmp)- n:]):\n",
    "            correct_prediction +=1\n",
    "    return correct_prediction/len(y_test)\n",
    "\n",
    "def get_pred(n, probability, classes):\n",
    "    sort_order = probability.argsort()\n",
    "    classes = classes[sort_order]\n",
    "    return classes[len(classes)-n : ]\n"
   ]
  },
  {
   "cell_type": "code",
   "execution_count": 238,
   "metadata": {},
   "outputs": [
    {
     "name": "stdout",
     "output_type": "stream",
     "text": [
      "0.40238213929639655\n",
      "225\n",
      "[331. 325. 324. 222. 225. 124. 326. 420. 423. 227.]\n"
     ]
    }
   ],
   "source": [
    "probability = tree_clf.predict_proba(X_test)   \n",
    "y_pred = tree_clf.predict(X_test)   \n",
    "top_n=10\n",
    "i=9\n",
    "acc = custom_accuracy(y_test, top_n, probability, tree_clf.classes_)\n",
    "print (acc)\n",
    "\n",
    "print(y_test[i])\n",
    "\n",
    "top_n_classes = get_pred(top_n, probability[i], tree_clf.classes_)\n",
    "print (top_n_classes)\n",
    "\n",
    "\n",
    "# print(y_pred[i], 'Predicted vs target', y_test[i])"
   ]
  },
  {
   "cell_type": "code",
   "execution_count": 233,
   "metadata": {},
   "outputs": [
    {
     "name": "stdout",
     "output_type": "stream",
     "text": [
      "[121. 124. 227. 423.]\n",
      "[    0     0     0     0     0     0     0     0     0     0     0     0\n",
      "     0     0     0     0     0     0     0     0     0     0     0     0\n",
      "     0     0     0     0     0     0     0     0     0     0     0     0\n",
      "     0     0     0     0     0     0     0     0     0     0     0     0\n",
      "     0     0     0     0     0     0     0     0     0     0     0     0\n",
      "     0     0     0     0     0     0     0     0     0     0     0     0\n",
      "     0     0     0     0     0     0     0     0     0     0     0     0\n",
      "     0     0     0     0     0     0     0     0     0     0     0     0\n",
      "     0     0     0     0     0     0     0     0     0     0     0     0\n",
      "     0     0     0     0     0     0     0     0     0     0     0     0\n",
      "     0 50065     0     0    74     0     0     0     0     0     0     0\n",
      "     0     0     0     0     0     0     0     0     0     0     0     0\n",
      "     0     0     0     0     0     0     0     0     0     0     0     0\n",
      "     0     0     0     0     0     0     0     0     0     0     0     0\n",
      "     0     0     0     0     0     0     0     0     0     0     0     0\n",
      "     0     0     0     0     0     0     0     0     0     0     0     0\n",
      "     0     0     0     0     0     0     0     0     0     0     0     0\n",
      "     0     0     0     0     0     0     0     0     0     0     0     0\n",
      "     0     0     0     0     0     0     0     0     0     0     0 61940\n",
      "     0     0     0     0     0     0     0     0     0     0     0     0\n",
      "     0     0     0     0     0     0     0     0     0     0     0     0\n",
      "     0     0     0     0     0     0     0     0     0     0     0     0\n",
      "     0     0     0     0     0     0     0     0     0     0     0     0\n",
      "     0     0     0     0     0     0     0     0     0     0     0     0\n",
      "     0     0     0     0     0     0     0     0     0     0     0     0\n",
      "     0     0     0     0     0     0     0     0     0     0     0     0\n",
      "     0     0     0     0     0     0     0     0     0     0     0     0\n",
      "     0     0     0     0     0     0     0     0     0     0     0     0\n",
      "     0     0     0     0     0     0     0     0     0     0     0     0\n",
      "     0     0     0     0     0     0     0     0     0     0     0     0\n",
      "     0     0     0     0     0     0     0     0     0     0     0     0\n",
      "     0     0     0     0     0     0     0     0     0     0     0     0\n",
      "     0     0     0     0     0     0     0     0     0     0     0     0\n",
      "     0     0     0     0     0     0     0     0     0     0     0     0\n",
      "     0     0     0     0     0     0     0     0     0     0     0     0\n",
      "     0     0     0   257]\n"
     ]
    }
   ],
   "source": [
    "print(np.unique(y_pred))\n",
    "print(np.bincount(y_pred.astype('int')))"
   ]
  },
  {
   "cell_type": "code",
   "execution_count": 177,
   "metadata": {},
   "outputs": [
    {
     "name": "stdout",
     "output_type": "stream",
     "text": [
      "[  0 120 121 122 123 124 125 126 127 128 129 220 221 222 223 224 225 226\n",
      " 227 228 320 321 322 323 324 325 326 327 328 329 330 331 420 421 422 423\n",
      " 424 425 426 427 428]\n",
      "[  29    0    0    0    0    0    0    0    0    0    0    0    0    0\n",
      "    0    0    0    0    0    0    0    0    0    0    0    0    0    0\n",
      "    0    0    0    0    0    0    0    0    0    0    0    0    0    0\n",
      "    0    0    0    0    0    0    0    0    0    0    0    0    0    0\n",
      "    0    0    0    0    0    0    0    0    0    0    0    0    0    0\n",
      "    0    0    0    0    0    0    0    0    0    0    0    0    0    0\n",
      "    0    0    0    0    0    0    0    0    0    0    0    0    0    0\n",
      "    0    0    0    0    0    0    0    0    0    0    0    0    0    0\n",
      "    0    0    0    0    0    0    0    0  413 5783 2444 2761 4161 2036\n",
      " 2371 2790 1950 2320    0    0    0    0    0    0    0    0    0    0\n",
      "    0    0    0    0    0    0    0    0    0    0    0    0    0    0\n",
      "    0    0    0    0    0    0    0    0    0    0    0    0    0    0\n",
      "    0    0    0    0    0    0    0    0    0    0    0    0    0    0\n",
      "    0    0    0    0    0    0    0    0    0    0    0    0    0    0\n",
      "    0    0    0    0    0    0    0    0    0    0    0    0    0    0\n",
      "    0    0    0    0    0    0    0    0    0    0 2132 1677 3589 2414\n",
      " 2014 3690 2511 9321 1954    0    0    0    0    0    0    0    0    0\n",
      "    0    0    0    0    0    0    0    0    0    0    0    0    0    0\n",
      "    0    0    0    0    0    0    0    0    0    0    0    0    0    0\n",
      "    0    0    0    0    0    0    0    0    0    0    0    0    0    0\n",
      "    0    0    0    0    0    0    0    0    0    0    0    0    0    0\n",
      "    0    0    0    0    0    0    0    0    0    0    0    0    0    0\n",
      "    0    0    0    0    0    0    0    0    0    0    0    0 1125 1765\n",
      " 2672 2505 3023 3035 3161 2411 2149 1557 1493 2872    0    0    0    0\n",
      "    0    0    0    0    0    0    0    0    0    0    0    0    0    0\n",
      "    0    0    0    0    0    0    0    0    0    0    0    0    0    0\n",
      "    0    0    0    0    0    0    0    0    0    0    0    0    0    0\n",
      "    0    0    0    0    0    0    0    0    0    0    0    0    0    0\n",
      "    0    0    0    0    0    0    0    0    0    0    0    0    0    0\n",
      "    0    0    0    0    0    0    0    0    0    0    0    0    0    0\n",
      " 3522 3424 3286 4515 2075 2395 3085 3243 2663]\n"
     ]
    }
   ],
   "source": [
    "print(np.unique(y_test))\n",
    "print(np.bincount(y_test.astype('int')))"
   ]
  },
  {
   "cell_type": "code",
   "execution_count": null,
   "metadata": {},
   "outputs": [],
   "source": []
  },
  {
   "cell_type": "code",
   "execution_count": null,
   "metadata": {},
   "outputs": [],
   "source": []
  },
  {
   "cell_type": "code",
   "execution_count": null,
   "metadata": {},
   "outputs": [],
   "source": []
  }
 ],
 "metadata": {
  "kernelspec": {
   "display_name": "Python 3",
   "language": "python",
   "name": "python3"
  },
  "language_info": {
   "codemirror_mode": {
    "name": "ipython",
    "version": 3
   },
   "file_extension": ".py",
   "mimetype": "text/x-python",
   "name": "python",
   "nbconvert_exporter": "python",
   "pygments_lexer": "ipython3",
   "version": "3.5.2"
  }
 },
 "nbformat": 4,
 "nbformat_minor": 2
}

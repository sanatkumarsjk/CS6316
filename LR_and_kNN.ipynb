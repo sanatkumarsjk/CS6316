{
 "cells": [
  {
   "cell_type": "code",
   "execution_count": 1,
   "metadata": {},
   "outputs": [],
   "source": [
    "import numpy as np\n",
    "from sklearn.linear_model import LogisticRegression\n",
    "import pandas as pd\n",
    "from sklearn.model_selection import train_test_split\n",
    "from sklearn.preprocessing import LabelEncoder\n",
    "from sklearn.neighbors import KNeighborsClassifier as KNN"
   ]
  },
  {
   "cell_type": "code",
   "execution_count": 2,
   "metadata": {},
   "outputs": [
    {
     "name": "stdout",
     "output_type": "stream",
     "text": [
      "number of call types 156\n",
      "number of case dispositions 16\n"
     ]
    }
   ],
   "source": [
    "# Pre-process the data.\n",
    "data = pd.read_csv(\"transformed.csv\", usecols=[\n",
    "    \"Priority\", \"Zone\", \"Call_Date\", \"Call_Month\", \"Call_Time\", \"Call Type\", \"Case Disposition\"])\n",
    "\n",
    "# incomplete_rows = data[data.isnull().any(axis=1)]\n",
    "# print(incomplete_rows)\n",
    "# m_imputer = Imputer(strategy='median')\n",
    "# data = m_imputer.fit_transform(data)\n",
    "\n",
    "data = data.dropna()\n",
    "encoder = LabelEncoder()\n",
    "\n",
    "call_type = data['Call Type']\n",
    "case_disposition = data['Case Disposition']\n",
    "call_type = encoder.fit_transform(call_type)\n",
    "encoder.fit(call_type)\n",
    "print('number of call types', len(encoder.classes_))\n",
    "case_disposition = encoder.fit_transform(case_disposition)\n",
    "encoder.fit(case_disposition)\n",
    "print('number of case dispositions', len(encoder.classes_))\n",
    "\n",
    "priority = data['Priority'].values\n",
    "zone = data['Zone'].values\n",
    "call_date = data['Call_Date'].values\n",
    "call_month = data['Call_Month'].values\n",
    "call_time = data['Call_Time'].values\n",
    "\n",
    "X = np.vstack((call_date, call_month))\n",
    "X = np.vstack((X, call_time))\n",
    "X = np.vstack((X, zone))\n",
    "X = X.T\n",
    "y = priority # Change here for different predicting purposes!\n",
    "# print(X[0:3])\n",
    "# print(y[0:3])\n",
    "X_train, X_test, y_train, y_test = train_test_split(X, y, test_size=0.3)"
   ]
  },
  {
   "cell_type": "code",
   "execution_count": 3,
   "metadata": {},
   "outputs": [
    {
     "name": "stdout",
     "output_type": "stream",
     "text": [
      "Accuracy on train set: 0.822662265815\n",
      "Accuracy on test set: 0.655054015211\n",
      "Accuracy on train set: 0.798885683315\n",
      "Accuracy on test set: 0.710248692758\n",
      "Accuracy on train set: 0.806117883173\n",
      "Accuracy on test set: 0.728298903096\n",
      "Accuracy on train set: 0.799795558834\n",
      "Accuracy on test set: 0.756632316516\n",
      "Accuracy on train set: 0.796556701533\n",
      "Accuracy on test set: 0.76581905232\n",
      "The best accuracy is achieved by c= 5\n",
      "The best accuracy is 0.76581905232\n"
     ]
    }
   ],
   "source": [
    "# kNN\n",
    "best_k = 0\n",
    "best_score = 0\n",
    "# for k in [1, 2, 3, 4, 5, 6, 7, 8, 9]:\n",
    "for k in [1, 2, 3, 4, 5]:\n",
    "    kNN_model = KNN(n_neighbors=k)\n",
    "    kNN_model.fit(X_train, y_train)\n",
    "    score_train = kNN_model.score(X_train, y_train)\n",
    "    print('Accuracy on train set:', score_train)\n",
    "    score_dev = kNN_model.score(X_test, y_test)\n",
    "    print('Accuracy on test set:', score_dev)\n",
    "    if score_train > best_score:\n",
    "        best_score = score_dev\n",
    "        best_k = k\n",
    "print('The best accuracy is achieved by c=', best_k)\n",
    "print('The best accuracy is', best_score)"
   ]
  },
  {
   "cell_type": "code",
   "execution_count": 4,
   "metadata": {},
   "outputs": [
    {
     "name": "stdout",
     "output_type": "stream",
     "text": [
      "Accuracy on train set: 0.785883449814\n",
      "Accuracy on test set: 0.786555825911\n",
      "The best accuracy using l2 norm is achieved by c= 0.5\n",
      "The best accuracy is 0.786555825911\n"
     ]
    }
   ],
   "source": [
    "# Logistic regression.\n",
    "best_c = 0\n",
    "best_score = 0\n",
    "# for c in [0.05, 0.1, 0.5, 1, 2, 3]:\n",
    "for c in [0.5]:\n",
    "    LR_model = LogisticRegression(C=1/c, penalty='l2', multi_class='ovr', solver='liblinear')\n",
    "    LR_model.fit(X_train, y_train)\n",
    "    score_train = LR_model.score(X_train, y_train)\n",
    "    print('Accuracy on train set:', score_train)\n",
    "    score_dev = LR_model.score(X_test, y_test)\n",
    "    print('Accuracy on test set:', score_dev)\n",
    "    if score_train > best_score:\n",
    "        best_score = score_dev\n",
    "        best_c = c\n",
    "print('The best accuracy using l2 norm is achieved by c=', best_c)\n",
    "print('The best accuracy is', best_score)"
   ]
  },
  {
   "cell_type": "code",
   "execution_count": 5,
   "metadata": {},
   "outputs": [
    {
     "name": "stdout",
     "output_type": "stream",
     "text": [
      "Accuracy on train set: 0.785883449814\n",
      "Accuracy on test set: 0.786555825911\n",
      "The best accuracy using l1 norm is achieved by c= 0.5\n",
      "The best accuracy is 0.786555825911\n"
     ]
    }
   ],
   "source": [
    "best_c = 0\n",
    "best_score = 0\n",
    "# for c in [0.05, 0.1, 0.5, 1, 2, 3]:\n",
    "for c in [0.5]:\n",
    "    LR_model = LogisticRegression(C=1/c, penalty='l1', multi_class='ovr', solver='liblinear')\n",
    "    LR_model.fit(X_train, y_train)\n",
    "    score_train = LR_model.score(X_train, y_train)\n",
    "    print('Accuracy on train set:', score_train)\n",
    "    score_dev = LR_model.score(X_test, y_test)\n",
    "    print('Accuracy on test set:', score_dev)\n",
    "    if score_train > best_score:\n",
    "        best_score = score_dev\n",
    "        best_c = c\n",
    "print('The best accuracy using l1 norm is achieved by c=', best_c)\n",
    "print('The best accuracy is', best_score)"
   ]
  },
  {
   "cell_type": "code",
   "execution_count": null,
   "metadata": {},
   "outputs": [],
   "source": []
  }
 ],
 "metadata": {
  "kernelspec": {
   "display_name": "Python 3",
   "language": "python",
   "name": "python3"
  },
  "language_info": {
   "codemirror_mode": {
    "name": "ipython",
    "version": 3
   },
   "file_extension": ".py",
   "mimetype": "text/x-python",
   "name": "python",
   "nbconvert_exporter": "python",
   "pygments_lexer": "ipython3",
   "version": "3.5.4"
  }
 },
 "nbformat": 4,
 "nbformat_minor": 2
}

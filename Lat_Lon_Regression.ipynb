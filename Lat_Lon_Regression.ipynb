{
 "cells": [
  {
   "cell_type": "code",
   "execution_count": 1,
   "metadata": {},
   "outputs": [],
   "source": [
    "import pandas as pd\n",
    "import numpy as np\n",
    "from sklearn.preprocessing import StandardScaler\n",
    "from sklearn.model_selection import train_test_split\n",
    "from sklearn.model_selection import cross_val_score\n",
    "from sklearn.model_selection import GridSearchCV\n",
    "from sklearn.linear_model import LinearRegression\n",
    "from sklearn.linear_model import Lasso\n",
    "from sklearn.tree import DecisionTreeRegressor\n",
    "from sklearn.metrics import mean_squared_error"
   ]
  },
  {
   "cell_type": "code",
   "execution_count": 2,
   "metadata": {},
   "outputs": [],
   "source": [
    "# Whether or not to include a bias term in X\n",
    "include_bias = True\n",
    "\n",
    "# Whether to train or test\n",
    "train = True\n",
    "\n",
    "# If training, whether to use grid-search or cross-validation\n",
    "use_gridsearch = True\n",
    "params = {'alpha': [0.001, 0.01, 0.1, 0.5, 1]}\n",
    "\n",
    "# If using cross-validation, number of folds\n",
    "k = 3\n",
    "\n",
    "# Initialize regression algorithm below\n",
    "#reg = LinearRegression()\n",
    "reg = Lasso()\n",
    "#reg = DecisionTreeRegressor()"
   ]
  },
  {
   "cell_type": "code",
   "execution_count": 4,
   "metadata": {},
   "outputs": [
    {
     "name": "stderr",
     "output_type": "stream",
     "text": [
      "C:\\Users\\Trey\\Anaconda3\\lib\\site-packages\\ipykernel_launcher.py:28: SettingWithCopyWarning: \n",
      "A value is trying to be set on a copy of a slice from a DataFrame.\n",
      "Try using .loc[row_indexer,col_indexer] = value instead\n",
      "\n",
      "See the caveats in the documentation: http://pandas.pydata.org/pandas-docs/stable/indexing.html#indexing-view-versus-copy\n"
     ]
    }
   ],
   "source": [
    "data = pd.read_csv(\"Clean_Data.csv\")\n",
    "\n",
    "# Strip latitude and longitude from data's Location feature\n",
    "lat_lot = pd.DataFrame(index=data.index, columns=[\"Latitude\", \"Longitude\"])\n",
    "\n",
    "rows_to_drop = []\n",
    "for index, row in data.iterrows():        \n",
    "    if row[\"Location\"].find('(') == -1:\n",
    "        rows_to_drop.append(index)\n",
    "    else:\n",
    "        lat_lot.at[index, \"Latitude\"] = float(row[\"Location\"].split('(')[1].split(',')[0])\n",
    "        lat_lot.at[index, \"Longitude\"] = float(row[\"Location\"].split('(')[1].split(',')[1][1:-1])\n",
    "\n",
    "data.drop([\"Location\"], axis=1, inplace=True)\n",
    "data.drop(rows_to_drop, axis=0, inplace=True)\n",
    "lat_lot.dropna(inplace=True)\n",
    "\n",
    "ss = StandardScaler()\n",
    "ss.fit_transform(lat_lot)\n",
    "data = pd.concat([data, lat_lot], axis=1)\n",
    "    \n",
    "\n",
    "X = data[[\"Call_Month\", \"Call_Date\", \"Call_Time\"]]\n",
    "y_lat = data[\"Latitude\"]\n",
    "y_lon = data[\"Longitude\"]\n",
    "\n",
    "if include_bias:\n",
    "    X[\"bias\"] = 1\n",
    "\n",
    "X_lat_train, X_lat_test, y_lat_train, y_lat_test = train_test_split(X, y_lat, test_size=0.2)\n",
    "X_lon_train, X_lon_test, y_lon_train, y_lon_test = train_test_split(X, y_lon, test_size=0.2)"
   ]
  },
  {
   "cell_type": "code",
   "execution_count": 5,
   "metadata": {},
   "outputs": [
    {
     "name": "stdout",
     "output_type": "stream",
     "text": [
      "Best Score (Latitude): 0.05259897559500644\n",
      "Best Model (Latitude): Lasso(alpha=0.001, copy_X=True, fit_intercept=True, max_iter=1000,\n",
      "   normalize=False, positive=False, precompute=False, random_state=None,\n",
      "   selection='cyclic', tol=0.0001, warm_start=False)\n",
      "Best Score (Longitude): 0.07208860530451142\n",
      "Best Model (Latitude): Lasso(alpha=0.001, copy_X=True, fit_intercept=True, max_iter=1000,\n",
      "   normalize=False, positive=False, precompute=False, random_state=None,\n",
      "   selection='cyclic', tol=0.0001, warm_start=False)\n"
     ]
    }
   ],
   "source": [
    "if train:\n",
    "    if use_gridsearch:\n",
    "        grid = GridSearchCV(reg, params, scoring=\"neg_mean_squared_error\")\n",
    "        grid.fit(X_lat_train, y_lat_train)\n",
    "        \n",
    "        print(\"Best Score (Latitude):\", np.sqrt(-grid.best_score_))\n",
    "        print(\"Best Model (Latitude):\", grid.best_estimator_)\n",
    "        \n",
    "        grid.fit(X_lon_train, y_lon_train)\n",
    "        print(\"Best Score (Longitude):\", np.sqrt(-grid.best_score_))\n",
    "        print(\"Best Model (Latitude):\", grid.best_estimator_)\n",
    "    else:\n",
    "        mse_lat = cross_val_score(reg, X_lat_train, y_lat_train, cv=k, scoring=\"neg_mean_squared_error\")\n",
    "        mse_lon = cross_val_score(reg, X_lon_train, y_lon_train, cv=k, scoring=\"neg_mean_squared_error\")\n",
    "\n",
    "        print(\"Latitude RMSE:\", np.sqrt(-mse_lat))\n",
    "        print(\"Longitude RMSE:\", np.sqrt(-mse_lon))\n",
    "else:\n",
    "    reg.fit(X_lat_train, y_lat_train)\n",
    "    y_lat_pred = reg.predict(X_lat_test)\n",
    "    mse_lat = mean_squared_error(y_lat_test, y_lat_pred)\n",
    "    \n",
    "    reg.fit(X_lon_train, y_lon_train)\n",
    "    y_lon_pred = reg.predict(X_lon_test)\n",
    "    mse_lon = mean_squared_error(y_lon_test, y_lon_pred)\n",
    "    \n",
    "    print(\"Latitude RMSE:\", np.sqrt(mse_lat))\n",
    "    print(\"Longitude RMSE:\", np.sqrt(mse_lon))"
   ]
  },
  {
   "cell_type": "code",
   "execution_count": null,
   "metadata": {},
   "outputs": [],
   "source": []
  }
 ],
 "metadata": {
  "kernelspec": {
   "display_name": "Python 3",
   "language": "python",
   "name": "python3"
  },
  "language_info": {
   "codemirror_mode": {
    "name": "ipython",
    "version": 3
   },
   "file_extension": ".py",
   "mimetype": "text/x-python",
   "name": "python",
   "nbconvert_exporter": "python",
   "pygments_lexer": "ipython3",
   "version": "3.6.5"
  }
 },
 "nbformat": 4,
 "nbformat_minor": 2
}
